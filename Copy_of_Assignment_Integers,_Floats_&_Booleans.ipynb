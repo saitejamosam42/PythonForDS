{
  "nbformat": 4,
  "nbformat_minor": 0,
  "metadata": {
    "kernelspec": {
      "display_name": "Python 3",
      "language": "python",
      "name": "python3"
    },
    "language_info": {
      "codemirror_mode": {
        "name": "ipython",
        "version": 3
      },
      "file_extension": ".py",
      "mimetype": "text/x-python",
      "name": "python",
      "nbconvert_exporter": "python",
      "pygments_lexer": "ipython3",
      "version": "3.7.4"
    },
    "colab": {
      "provenance": [],
      "collapsed_sections": [],
      "include_colab_link": true
    }
  },
  "cells": [
    {
      "cell_type": "markdown",
      "metadata": {
        "id": "view-in-github",
        "colab_type": "text"
      },
      "source": [
        "<a href=\"https://colab.research.google.com/github/saitejamosam42/PythonForDS/blob/main/Copy_of_Assignment_Integers%2C_Floats_%26_Booleans.ipynb\" target=\"_parent\"><img src=\"https://colab.research.google.com/assets/colab-badge.svg\" alt=\"Open In Colab\"/></a>"
      ]
    },
    {
      "cell_type": "markdown",
      "metadata": {
        "id": "JRdjdmztDelX"
      },
      "source": [
        "## <u>While doing this assignment only use those concepts which have been taught till now</u>"
      ]
    },
    {
      "cell_type": "markdown",
      "metadata": {
        "id": "8ECk3jeWDelY"
      },
      "source": [
        "## <u>Problem 1</u>\n",
        "\n",
        "In a cricket tournament, based on the outcome of a particular match a team gets following points:\n",
        "* <code>wins</code> gets <code>3</code> points\n",
        "* <code>draws</code> gets <code>1</code> points\n",
        "* <code>losses</code> gets <code>0</code> points\n",
        "\n",
        "Team Aravali plays <code>8</code> matches in this tournament. It wins <code>4</code> matches, loses <code>3</code> matches and draws <code>1</code>. What is the total number of points gained by the Team Aravali?"
      ]
    },
    {
      "cell_type": "code",
      "metadata": {
        "id": "m68YV3OhDelZ",
        "colab": {
          "base_uri": "https://localhost:8080/"
        },
        "outputId": "f3159977-13ae-4e2d-b8bb-0e20842c1ab2"
      },
      "source": [
        "# The outcome variables are defined below\n",
        "wins = 4\n",
        "losses = 3\n",
        "draws = 1\n"
      ],
      "execution_count": 5,
      "outputs": [
        {
          "output_type": "execute_result",
          "data": {
            "text/plain": [
              "13"
            ]
          },
          "metadata": {},
          "execution_count": 5
        }
      ]
    },
    {
      "cell_type": "code",
      "metadata": {
        "id": "2cnTsWvODelc"
      },
      "source": [
        "# Calculate the total points gained by Team Aravali\n",
        "wins = 4\n",
        "losses = 3\n",
        "draws = 1\n",
        "aravali_points = 3*wins + 0*losses + 1*draws"
      ],
      "execution_count": null,
      "outputs": []
    },
    {
      "cell_type": "code",
      "metadata": {
        "id": "4ccas7cPDelf",
        "colab": {
          "base_uri": "https://localhost:8080/"
        },
        "outputId": "e6e29fbf-3303-4152-d43b-d72c5d4f5bff"
      },
      "source": [
        "# Print the variable aravali_points\n",
        "aravali_points"
      ],
      "execution_count": 6,
      "outputs": [
        {
          "output_type": "execute_result",
          "data": {
            "text/plain": [
              "13"
            ]
          },
          "metadata": {},
          "execution_count": 6
        }
      ]
    },
    {
      "cell_type": "markdown",
      "metadata": {
        "id": "-ioInfYKDelh"
      },
      "source": [
        "## <u>Problem 2 </u>\n",
        "\n",
        "* Root of a function $f(x)$ is defined as the value $x$ where $f(x)=0$ \n",
        "* Consider a quadratic function $ f(x) = x^2 + 3x - 4$\n",
        "\n",
        "### Find the value of the function $f(x)$ at points   $x=2,x=-1, x=1$."
      ]
    },
    {
      "cell_type": "code",
      "metadata": {
        "id": "4_HZwes5Delh",
        "colab": {
          "base_uri": "https://localhost:8080/"
        },
        "outputId": "352cfd0b-0098-4628-afba-b674ac528c04"
      },
      "source": [
        "# Calculate the value of the function f(x) at x = 2\n",
        "func_evaluated_at_2 = 2*2+3*2-4\n",
        "func_evaluated_at_2"
      ],
      "execution_count": 7,
      "outputs": [
        {
          "output_type": "execute_result",
          "data": {
            "text/plain": [
              "6"
            ]
          },
          "metadata": {},
          "execution_count": 7
        }
      ]
    },
    {
      "cell_type": "code",
      "metadata": {
        "id": "zBkLIXk2Dell"
      },
      "source": [
        "# Print the value below\n"
      ],
      "execution_count": null,
      "outputs": []
    },
    {
      "cell_type": "code",
      "metadata": {
        "id": "uD4MAyKIDelo",
        "colab": {
          "base_uri": "https://localhost:8080/"
        },
        "outputId": "7fc129ee-2863-4e9d-9900-50a7d5a3d16d"
      },
      "source": [
        "# Calculate the value of the function f(x) at x = -1\n",
        "func_evaluated_at_minus1 = (-1)**2 + 3*(-1) - 4\n",
        "print(func_evaluated_at_minus1)"
      ],
      "execution_count": 23,
      "outputs": [
        {
          "output_type": "stream",
          "name": "stdout",
          "text": [
            "-6\n"
          ]
        }
      ]
    },
    {
      "cell_type": "code",
      "metadata": {
        "id": "Jx9WVMQ2Delq"
      },
      "source": [
        "# Print the value below\n"
      ],
      "execution_count": null,
      "outputs": []
    },
    {
      "cell_type": "code",
      "metadata": {
        "id": "h8PgF85VDelu",
        "colab": {
          "base_uri": "https://localhost:8080/"
        },
        "outputId": "ce113f27-b5aa-439e-c3db-45d60829d5b5"
      },
      "source": [
        "# Calculate the value of the function f(x) at x = 1\n",
        "func_evaluated_at_1 = 1 + 3 -4\n",
        "print(func_evaluated_at_1)"
      ],
      "execution_count": 25,
      "outputs": [
        {
          "output_type": "stream",
          "name": "stdout",
          "text": [
            "0\n"
          ]
        }
      ]
    },
    {
      "cell_type": "code",
      "metadata": {
        "id": "BdrFgug6Delw",
        "colab": {
          "base_uri": "https://localhost:8080/"
        },
        "outputId": "c39c0909-0dd6-47e8-f69b-64fe11952d61"
      },
      "source": [
        "# Print the type of the variable below\n",
        "print(func_evaluated_at_1)\n",
        "type(func_evaluated_at_1)"
      ],
      "execution_count": 26,
      "outputs": [
        {
          "output_type": "stream",
          "name": "stdout",
          "text": [
            "0\n"
          ]
        },
        {
          "output_type": "execute_result",
          "data": {
            "text/plain": [
              "int"
            ]
          },
          "metadata": {},
          "execution_count": 26
        }
      ]
    },
    {
      "cell_type": "markdown",
      "metadata": {
        "id": "EvldlcwqDelz"
      },
      "source": [
        "### Return the boolean for each value of $x$ to find out whether that value is a root of $f(x)$"
      ]
    },
    {
      "cell_type": "code",
      "metadata": {
        "id": "-tUSAgzgDel0",
        "colab": {
          "base_uri": "https://localhost:8080/"
        },
        "outputId": "f4794322-6f10-4520-f696-cef5ec6bf9f7"
      },
      "source": [
        "# Check whether 2 is a root of f(x)\n",
        "func_evaluated_at_2 == 0"
      ],
      "execution_count": 10,
      "outputs": [
        {
          "output_type": "execute_result",
          "data": {
            "text/plain": [
              "False"
            ]
          },
          "metadata": {},
          "execution_count": 10
        }
      ]
    },
    {
      "cell_type": "code",
      "metadata": {
        "id": "gsNS4Ki4Del2",
        "colab": {
          "base_uri": "https://localhost:8080/"
        },
        "outputId": "cf7e9b59-9cd9-4bd8-bf24-49b758d469ac"
      },
      "source": [
        "# Check whether -1 is a root of f(x)\n",
        "func_evaluated_at_minus1 == 0\n"
      ],
      "execution_count": 11,
      "outputs": [
        {
          "output_type": "execute_result",
          "data": {
            "text/plain": [
              "False"
            ]
          },
          "metadata": {},
          "execution_count": 11
        }
      ]
    },
    {
      "cell_type": "code",
      "metadata": {
        "id": "yExDY-ZXDel4",
        "colab": {
          "base_uri": "https://localhost:8080/"
        },
        "outputId": "a2f3d495-d998-4023-8dfc-732678f037fd"
      },
      "source": [
        "# Check whether 1 is a root of f(x)\n",
        "func_evaluated_at_1 == 0"
      ],
      "execution_count": 27,
      "outputs": [
        {
          "output_type": "execute_result",
          "data": {
            "text/plain": [
              "True"
            ]
          },
          "metadata": {},
          "execution_count": 27
        }
      ]
    },
    {
      "cell_type": "markdown",
      "metadata": {
        "id": "tNAI2AHRDel6"
      },
      "source": [
        "## <u> Problem 3 </u>\n",
        "\n",
        "A bag contains <code>45</code> apples, <code>65</code> oranges and <code>30</code> bananas. Find the percentage of each type of food items in the bag."
      ]
    },
    {
      "cell_type": "code",
      "metadata": {
        "id": "XJ9Rq4P3Del7",
        "colab": {
          "base_uri": "https://localhost:8080/"
        },
        "outputId": "151a523e-bc35-4a5f-d200-e37424d81c79"
      },
      "source": [
        "# Calculate the percentage of apples and print the variable\n",
        "\n",
        "apples = 45\n",
        "oranges = 65\n",
        "bananas = 30\n",
        "total = 45+65+30\n",
        "apple_percentage = (apples/total)*100\n",
        "print(apple_percentage)\n"
      ],
      "execution_count": 30,
      "outputs": [
        {
          "output_type": "stream",
          "name": "stdout",
          "text": [
            "32.142857142857146\n"
          ]
        }
      ]
    },
    {
      "cell_type": "code",
      "metadata": {
        "id": "S6lJZtaXDel9",
        "colab": {
          "base_uri": "https://localhost:8080/"
        },
        "outputId": "062afcc8-125a-4937-d2ea-907bd6ef5a44"
      },
      "source": [
        "# Calculate the percentage of oranges and print the variable\n",
        "oranges_percentage = (oranges/total)*100\n",
        "print(oranges_percentage)\n",
        "\n"
      ],
      "execution_count": 31,
      "outputs": [
        {
          "output_type": "stream",
          "name": "stdout",
          "text": [
            "46.42857142857143\n"
          ]
        }
      ]
    },
    {
      "cell_type": "code",
      "metadata": {
        "id": "mHzMnSZrDemB",
        "colab": {
          "base_uri": "https://localhost:8080/"
        },
        "outputId": "1f0e4dc5-9949-4534-dd8b-a387125154b3"
      },
      "source": [
        "# Calculate the percentage of bananas and print the variable\n",
        "\n",
        "bananas_percentage = (bananas/total)*100\n",
        "print(bananas_percentage)"
      ],
      "execution_count": 32,
      "outputs": [
        {
          "output_type": "stream",
          "name": "stdout",
          "text": [
            "21.428571428571427\n"
          ]
        }
      ]
    },
    {
      "cell_type": "markdown",
      "metadata": {
        "id": "F44LczfzDemD"
      },
      "source": [
        "## <u>Problem 4</u>\n",
        "\n",
        "You were playing a fun guessing game during your school break. There were a total of 100 participants excluding you. Out of these 100 people, 30 were Maths Majors, 45 were Economics Majors and 25 were Physics Majors.\n",
        "\n",
        "The game was divided into three rounds.\n",
        "\n",
        "* In the first round, you had to guess the number of Maths Majors and you <b>correctly</b> guessed 20 of them.\n",
        "* In the second round, you had to guess the number of Economics Majors and you <b>correctly</b> guessed 30 of them.\n",
        "* In the final third round, you had to guess the number of Physics Majors and you <b>correctly</b> guessed 20 of them.\n",
        "\n",
        "### Accuracy is defined as the number of correct guesses upon total number of people in the group (expressed in percentage)"
      ]
    },
    {
      "cell_type": "markdown",
      "metadata": {
        "id": "lkGEV_zpDemE"
      },
      "source": [
        "* ### Define your variables"
      ]
    },
    {
      "cell_type": "code",
      "metadata": {
        "id": "OfXY9LcVDemF",
        "colab": {
          "base_uri": "https://localhost:8080/"
        },
        "outputId": "87c78f9b-591a-416d-9bc1-7f6e7076ddb1"
      },
      "source": [
        "# Store the number of Maths majors\n",
        "maths_majors = 30\n",
        "\n",
        "# Store the number of Economics majors\n",
        "economics_majors = 45\n",
        "\n",
        "# Store the number of Physics majors\n",
        "physcics_majors = 25\n",
        "\n",
        "# Store the number of your correct guesses of Maths majors\n",
        "\n",
        "correct_maths = 20\n",
        "# Store the number of your correct guesses of Economics majors\n",
        "correct_economics = 30\n",
        "\n",
        "# Store the number of your correct guesses of Physics majors\n",
        "correct_physics = 20\n"
      ],
      "execution_count": 35,
      "outputs": [
        {
          "output_type": "stream",
          "name": "stdout",
          "text": [
            "66.66666666666666\n"
          ]
        }
      ]
    },
    {
      "cell_type": "markdown",
      "metadata": {
        "id": "Eg_Or6GmDemI"
      },
      "source": [
        "* ### Calculate your accuracy in each of the three rounds"
      ]
    },
    {
      "cell_type": "code",
      "metadata": {
        "id": "QUbDKOR3DemJ",
        "colab": {
          "base_uri": "https://localhost:8080/"
        },
        "outputId": "c32b9f76-6fbf-4ff9-9685-3c57f4774002"
      },
      "source": [
        "# Print the Maths accuracy\n",
        "maths_accuracy = (correct_maths/maths_majors)*100\n",
        "print(maths_accuracy)\n"
      ],
      "execution_count": 36,
      "outputs": [
        {
          "output_type": "stream",
          "name": "stdout",
          "text": [
            "66.66666666666666\n"
          ]
        }
      ]
    },
    {
      "cell_type": "code",
      "metadata": {
        "id": "PfX4DowhDemM",
        "colab": {
          "base_uri": "https://localhost:8080/"
        },
        "outputId": "1633b5d7-fc88-4d0d-b4d3-f11188e36be5"
      },
      "source": [
        "# Print the Economics accuracy\n",
        "\n",
        "economics_accuracy = (correct_maths/maths_majors)*100\n",
        "print(economics_accuracy)"
      ],
      "execution_count": 37,
      "outputs": [
        {
          "output_type": "stream",
          "name": "stdout",
          "text": [
            "66.66666666666666\n"
          ]
        }
      ]
    },
    {
      "cell_type": "code",
      "metadata": {
        "id": "ZV-hzGKCDemP",
        "colab": {
          "base_uri": "https://localhost:8080/"
        },
        "outputId": "3f1fc550-6814-4978-9c76-36a55dabac31"
      },
      "source": [
        "# Print the Physics accuracy\n",
        "physics_accuracy = (correct_physics/physcics_majors)*100\n",
        "print(economics_accuracy)\n"
      ],
      "execution_count": 39,
      "outputs": [
        {
          "output_type": "stream",
          "name": "stdout",
          "text": [
            "80.0\n"
          ]
        }
      ]
    },
    {
      "cell_type": "markdown",
      "metadata": {
        "id": "FvKZonnwDemS"
      },
      "source": [
        "* ### Calculate your overall accuracy in the entire game"
      ]
    },
    {
      "cell_type": "code",
      "metadata": {
        "id": "eP3JkusLDemT",
        "colab": {
          "base_uri": "https://localhost:8080/"
        },
        "outputId": "153da7e9-809a-4ac7-89c9-f0c8506ea13f"
      },
      "source": [
        "# Print the overall accuracy\n",
        "all_majors = maths_majors + economics_majors + physcics_majors\n",
        "all_correct = correct_maths +  correct_economics + correct_physics\n",
        "print((all_correct/all_majors)*100)\n"
      ],
      "execution_count": 42,
      "outputs": [
        {
          "output_type": "stream",
          "name": "stdout",
          "text": [
            "70.0\n"
          ]
        }
      ]
    }
  ]
}